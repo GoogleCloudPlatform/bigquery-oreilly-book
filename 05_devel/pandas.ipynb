{
 "cells": [
  {
   "cell_type": "markdown",
   "metadata": {},
   "source": [
    "## Example of using BigQuery and Pandas together\n",
    "\n",
    "This notebook illustrates a typical data science workflow that leverages the relative advantages of both Pandas and BigQuery:\n",
    "* Pandas for transformations and graphics.\n",
    "* BigQuery for scale\n"
   ]
  },
  {
   "cell_type": "markdown",
   "metadata": {},
   "source": [
    "## Install library and extensions if needed\n",
    "\n",
    "On Notebook instances on Google Cloud, the BigQuery client library is already installed."
   ]
  },
  {
   "cell_type": "code",
   "execution_count": 1,
   "metadata": {},
   "outputs": [],
   "source": [
    "#!python -m pip install google-cloud-bigquery\n",
    "%matplotlib inline\n",
    "#%load_ext google.cloud.bigquery"
   ]
  },
  {
   "cell_type": "code",
   "execution_count": 2,
   "metadata": {},
   "outputs": [],
   "source": [
    "PROJECT='cloud-training-demos'  # CHANGE THIS"
   ]
  },
  {
   "cell_type": "markdown",
   "metadata": {},
   "source": [
    "\n",
    "## Problem\n",
    "\n",
    "We believe that if someone rents a bicycle for less than 10 minutes and returns the bicycle to the same station that they rented it at, it is likely that the bicycle has a problem. We'll call this a \"bad\" trip.\n",
    "\n",
    "We want to send a crew out to examine a few of the stations that had lots of bad trips to see if there are any systemic problems."
   ]
  },
  {
   "cell_type": "markdown",
   "metadata": {},
   "source": [
    "### Find stations with problem bikes\n",
    "As a first step, let's find which stations had the most \"bad\" trips in 2015"
   ]
  },
  {
   "cell_type": "code",
   "execution_count": 3,
   "metadata": {},
   "outputs": [],
   "source": [
    "%%bigquery badtrips --project $PROJECT\n",
    "SELECT *, bad_trips / num_trips AS fraction_bad FROM (\n",
    "    SELECT \n",
    "      start_station_name\n",
    "      , SUM(IF(duration < 600 AND start_station_name = end_station_name, 1, 0)) AS bad_trips\n",
    "      , COUNT(start_station_name) as num_trips\n",
    "    FROM `bigquery-public-data`.london_bicycles.cycle_hire\n",
    "    WHERE EXTRACT(YEAR FROM start_date) = 2015\n",
    "    GROUP BY start_station_name\n",
    "    HAVING num_trips > 10\n",
    ")\n",
    "ORDER BY fraction_bad DESC"
   ]
  },
  {
   "cell_type": "markdown",
   "metadata": {},
   "source": [
    "### Statistics\n",
    "\n",
    "Let's look at the statistics of the dataset to learn what kind of threshold of the fraction_bad is appropriate"
   ]
  },
  {
   "cell_type": "code",
   "execution_count": 4,
   "metadata": {},
   "outputs": [
    {
     "data": {
      "text/html": [
       "<div>\n",
       "<style scoped>\n",
       "    .dataframe tbody tr th:only-of-type {\n",
       "        vertical-align: middle;\n",
       "    }\n",
       "\n",
       "    .dataframe tbody tr th {\n",
       "        vertical-align: top;\n",
       "    }\n",
       "\n",
       "    .dataframe thead th {\n",
       "        text-align: right;\n",
       "    }\n",
       "</style>\n",
       "<table border=\"1\" class=\"dataframe\">\n",
       "  <thead>\n",
       "    <tr style=\"text-align: right;\">\n",
       "      <th></th>\n",
       "      <th>bad_trips</th>\n",
       "      <th>num_trips</th>\n",
       "      <th>fraction_bad</th>\n",
       "    </tr>\n",
       "  </thead>\n",
       "  <tbody>\n",
       "    <tr>\n",
       "      <th>count</th>\n",
       "      <td>823.000000</td>\n",
       "      <td>823.000000</td>\n",
       "      <td>823.000000</td>\n",
       "    </tr>\n",
       "    <tr>\n",
       "      <th>mean</th>\n",
       "      <td>75.074119</td>\n",
       "      <td>11869.755772</td>\n",
       "      <td>0.007636</td>\n",
       "    </tr>\n",
       "    <tr>\n",
       "      <th>std</th>\n",
       "      <td>70.512207</td>\n",
       "      <td>9906.268656</td>\n",
       "      <td>0.014739</td>\n",
       "    </tr>\n",
       "    <tr>\n",
       "      <th>min</th>\n",
       "      <td>0.000000</td>\n",
       "      <td>11.000000</td>\n",
       "      <td>0.000000</td>\n",
       "    </tr>\n",
       "    <tr>\n",
       "      <th>25%</th>\n",
       "      <td>41.000000</td>\n",
       "      <td>5903.000000</td>\n",
       "      <td>0.005002</td>\n",
       "    </tr>\n",
       "    <tr>\n",
       "      <th>50%</th>\n",
       "      <td>62.000000</td>\n",
       "      <td>9998.000000</td>\n",
       "      <td>0.006368</td>\n",
       "    </tr>\n",
       "    <tr>\n",
       "      <th>75%</th>\n",
       "      <td>91.500000</td>\n",
       "      <td>14852.500000</td>\n",
       "      <td>0.008383</td>\n",
       "    </tr>\n",
       "    <tr>\n",
       "      <th>max</th>\n",
       "      <td>967.000000</td>\n",
       "      <td>95740.000000</td>\n",
       "      <td>0.416667</td>\n",
       "    </tr>\n",
       "  </tbody>\n",
       "</table>\n",
       "</div>"
      ],
      "text/plain": [
       "        bad_trips     num_trips  fraction_bad\n",
       "count  823.000000    823.000000    823.000000\n",
       "mean    75.074119  11869.755772      0.007636\n",
       "std     70.512207   9906.268656      0.014739\n",
       "min      0.000000     11.000000      0.000000\n",
       "25%     41.000000   5903.000000      0.005002\n",
       "50%     62.000000   9998.000000      0.006368\n",
       "75%     91.500000  14852.500000      0.008383\n",
       "max    967.000000  95740.000000      0.416667"
      ]
     },
     "execution_count": 4,
     "metadata": {},
     "output_type": "execute_result"
    }
   ],
   "source": [
    "badtrips.describe()"
   ]
  },
  {
   "cell_type": "markdown",
   "metadata": {},
   "source": [
    "Looks like the fraction_bad ranges from 0 to 0.4, but is not clear how relevant this ratio is because the stations also vary quite dramatically. For example, the number of trips ranges from 11 to 95740.  A 0.4 fraction_bad is not terrible if num_trips=11.\n",
    "\n",
    "Let's look at a scatter plot to see if there is any clear trend here."
   ]
  },
  {
   "cell_type": "code",
   "execution_count": 5,
   "metadata": {},
   "outputs": [
    {
     "data": {
      "image/png": "[encoded data removed]",
      "text/plain": [
       "<Figure size 432x288 with 1 Axes>"
      ]
     },
     "metadata": {
      "needs_background": "light"
     },
     "output_type": "display_data"
    }
   ],
   "source": [
    "badtrips.plot.scatter('num_trips', 'fraction_bad');"
   ]
  },
  {
   "cell_type": "markdown",
   "metadata": {},
   "source": [
    "Let's zoom in a bit and add a line of best fit"
   ]
  },
  {
   "cell_type": "code",
   "execution_count": 6,
   "metadata": {},
   "outputs": [
    {
     "data": {
      "image/png": "[encoded data removed]",
      "text/plain": [
       "<Figure size 432x288 with 1 Axes>"
      ]
     },
     "metadata": {
      "needs_background": "light"
     },
     "output_type": "display_data"
    }
   ],
   "source": [
    "import seaborn as sns\n",
    "ax = sns.regplot(badtrips['num_trips'],badtrips['fraction_bad']);\n",
    "ax.set_ylim(0, 0.05);"
   ]
  },
  {
   "cell_type": "markdown",
   "metadata": {},
   "source": [
    "Indeed, we see that higher fraction_bad are associated with lower num_trips.  We need to use the fraction_bad carefully."
   ]
  },
  {
   "cell_type": "markdown",
   "metadata": {},
   "source": [
    "### Banding\n",
    "Let's pick the 5 worst of the really busy stations, 5 of the next most busy, etc.\n",
    "We can do this by creating\n",
    "4 different bands from the quantile of the station by num_trips, and within each band, finding the 5 stations that are most bad."
   ]
  },
  {
   "cell_type": "code",
   "execution_count": 7,
   "metadata": {},
   "outputs": [
    {
     "name": "stdout",
     "output_type": "stream",
     "text": [
      "num_trips >= 4826.4 and num_trips < 8511.8\n",
      "                 start_station_name  bad_trips  num_trips  fraction_bad\n",
      "6        River Street , Clerkenwell        221       8279      0.026694\n",
      "9   Courland Grove, Wandsworth Road        105       5369      0.019557\n",
      "10         Stanley Grove, Battersea         92       4882      0.018845\n",
      "12              Southern Grove, Bow        112       6152      0.018205\n",
      "18    Richmond Way, Shepherd's Bush        126       8149      0.015462\n",
      "\n",
      "num_trips >= 8511.8 and num_trips < 11502.6\n",
      "                  start_station_name  bad_trips  num_trips  fraction_bad\n",
      "3              Ormonde Gate, Chelsea        315       8932      0.035266\n",
      "41  Emperor's Gate, South Kensington        136      10554      0.012886\n",
      "53     Chepstow Villas, Notting Hill        135      11038      0.012230\n",
      "57            Salmon Lane, Limehouse        113       9345      0.012092\n",
      "63       Greyhound Road, Hammersmith        118       9998      0.011802\n",
      "\n",
      "num_trips >= 11502.6 and num_trips < 16509.2\n",
      "                           start_station_name  bad_trips  num_trips  \\\n",
      "35            Hertford Road, De Beauvoir Town        195      14188   \n",
      "39              Bramham Gardens, Earl's Court        212      16178   \n",
      "62                 Lancaster Gate , Bayswater        172      14554   \n",
      "75               Ilchester Gardens, Bayswater        159      14137   \n",
      "80  Westfield Library Corner, Shepherd's Bush        126      11517   \n",
      "\n",
      "    fraction_bad  \n",
      "35      0.013744  \n",
      "39      0.013104  \n",
      "62      0.011818  \n",
      "75      0.011247  \n",
      "80      0.010940  \n",
      "\n",
      "num_trips >= 16509.2 and num_trips < 95740.0\n",
      "                  start_station_name  bad_trips  num_trips  fraction_bad\n",
      "25  Queen's Gate, Kensington Gardens        396      27457      0.014423\n",
      "74     Speakers' Corner 2, Hyde Park        468      41107      0.011385\n",
      "76        Cumberland Gate, Hyde Park        303      26981      0.011230\n",
      "77            Albert Gate, Hyde Park        729      66547      0.010955\n",
      "82      Triangle Car Park, Hyde Park        454      41675      0.010894\n",
      "\n"
     ]
    }
   ],
   "source": [
    "stations_to_examine = []\n",
    "\n",
    "import pandas as pd\n",
    "for band in range(1,5):\n",
    "  min_trips = badtrips['num_trips'].quantile(0.2*(band))\n",
    "  max_trips = badtrips['num_trips'].quantile(0.2*(band+1))\n",
    "  query = 'num_trips >= {} and num_trips < {}'.format(min_trips, max_trips)\n",
    "  print(query) # band\n",
    "  stations = badtrips.query(query)\n",
    "  stations = stations.sort_values(by=['fraction_bad'], ascending=False)[:5] \n",
    "  print(stations) # 5 worst\n",
    "  stations_to_examine.append(stations)\n",
    "  print()"
   ]
  },
  {
   "cell_type": "markdown",
   "metadata": {},
   "source": [
    "Notice how, by banding, we are able to use lower thresholds for the busier stations. Had we chosen a single threshold, our crew would have not get to look at a diverse set of stations."
   ]
  },
  {
   "cell_type": "markdown",
   "metadata": {},
   "source": [
    "### Stations to examine"
   ]
  },
  {
   "cell_type": "code",
   "execution_count": 8,
   "metadata": {},
   "outputs": [
    {
     "data": {
      "text/html": [
       "<div>\n",
       "<style scoped>\n",
       "    .dataframe tbody tr th:only-of-type {\n",
       "        vertical-align: middle;\n",
       "    }\n",
       "\n",
       "    .dataframe tbody tr th {\n",
       "        vertical-align: top;\n",
       "    }\n",
       "\n",
       "    .dataframe thead th {\n",
       "        text-align: right;\n",
       "    }\n",
       "</style>\n",
       "<table border=\"1\" class=\"dataframe\">\n",
       "  <thead>\n",
       "    <tr style=\"text-align: right;\">\n",
       "      <th></th>\n",
       "      <th>start_station_name</th>\n",
       "      <th>bad_trips</th>\n",
       "      <th>num_trips</th>\n",
       "      <th>fraction_bad</th>\n",
       "    </tr>\n",
       "  </thead>\n",
       "  <tbody>\n",
       "    <tr>\n",
       "      <th>6</th>\n",
       "      <td>River Street , Clerkenwell</td>\n",
       "      <td>221</td>\n",
       "      <td>8279</td>\n",
       "      <td>0.026694</td>\n",
       "    </tr>\n",
       "    <tr>\n",
       "      <th>9</th>\n",
       "      <td>Courland Grove, Wandsworth Road</td>\n",
       "      <td>105</td>\n",
       "      <td>5369</td>\n",
       "      <td>0.019557</td>\n",
       "    </tr>\n",
       "    <tr>\n",
       "      <th>10</th>\n",
       "      <td>Stanley Grove, Battersea</td>\n",
       "      <td>92</td>\n",
       "      <td>4882</td>\n",
       "      <td>0.018845</td>\n",
       "    </tr>\n",
       "    <tr>\n",
       "      <th>12</th>\n",
       "      <td>Southern Grove, Bow</td>\n",
       "      <td>112</td>\n",
       "      <td>6152</td>\n",
       "      <td>0.018205</td>\n",
       "    </tr>\n",
       "    <tr>\n",
       "      <th>18</th>\n",
       "      <td>Richmond Way, Shepherd's Bush</td>\n",
       "      <td>126</td>\n",
       "      <td>8149</td>\n",
       "      <td>0.015462</td>\n",
       "    </tr>\n",
       "    <tr>\n",
       "      <th>3</th>\n",
       "      <td>Ormonde Gate, Chelsea</td>\n",
       "      <td>315</td>\n",
       "      <td>8932</td>\n",
       "      <td>0.035266</td>\n",
       "    </tr>\n",
       "    <tr>\n",
       "      <th>41</th>\n",
       "      <td>Emperor's Gate, South Kensington</td>\n",
       "      <td>136</td>\n",
       "      <td>10554</td>\n",
       "      <td>0.012886</td>\n",
       "    </tr>\n",
       "    <tr>\n",
       "      <th>53</th>\n",
       "      <td>Chepstow Villas, Notting Hill</td>\n",
       "      <td>135</td>\n",
       "      <td>11038</td>\n",
       "      <td>0.012230</td>\n",
       "    </tr>\n",
       "    <tr>\n",
       "      <th>57</th>\n",
       "      <td>Salmon Lane, Limehouse</td>\n",
       "      <td>113</td>\n",
       "      <td>9345</td>\n",
       "      <td>0.012092</td>\n",
       "    </tr>\n",
       "    <tr>\n",
       "      <th>63</th>\n",
       "      <td>Greyhound Road, Hammersmith</td>\n",
       "      <td>118</td>\n",
       "      <td>9998</td>\n",
       "      <td>0.011802</td>\n",
       "    </tr>\n",
       "    <tr>\n",
       "      <th>35</th>\n",
       "      <td>Hertford Road, De Beauvoir Town</td>\n",
       "      <td>195</td>\n",
       "      <td>14188</td>\n",
       "      <td>0.013744</td>\n",
       "    </tr>\n",
       "    <tr>\n",
       "      <th>39</th>\n",
       "      <td>Bramham Gardens, Earl's Court</td>\n",
       "      <td>212</td>\n",
       "      <td>16178</td>\n",
       "      <td>0.013104</td>\n",
       "    </tr>\n",
       "    <tr>\n",
       "      <th>62</th>\n",
       "      <td>Lancaster Gate , Bayswater</td>\n",
       "      <td>172</td>\n",
       "      <td>14554</td>\n",
       "      <td>0.011818</td>\n",
       "    </tr>\n",
       "    <tr>\n",
       "      <th>75</th>\n",
       "      <td>Ilchester Gardens, Bayswater</td>\n",
       "      <td>159</td>\n",
       "      <td>14137</td>\n",
       "      <td>0.011247</td>\n",
       "    </tr>\n",
       "    <tr>\n",
       "      <th>80</th>\n",
       "      <td>Westfield Library Corner, Shepherd's Bush</td>\n",
       "      <td>126</td>\n",
       "      <td>11517</td>\n",
       "      <td>0.010940</td>\n",
       "    </tr>\n",
       "    <tr>\n",
       "      <th>25</th>\n",
       "      <td>Queen's Gate, Kensington Gardens</td>\n",
       "      <td>396</td>\n",
       "      <td>27457</td>\n",
       "      <td>0.014423</td>\n",
       "    </tr>\n",
       "    <tr>\n",
       "      <th>74</th>\n",
       "      <td>Speakers' Corner 2, Hyde Park</td>\n",
       "      <td>468</td>\n",
       "      <td>41107</td>\n",
       "      <td>0.011385</td>\n",
       "    </tr>\n",
       "    <tr>\n",
       "      <th>76</th>\n",
       "      <td>Cumberland Gate, Hyde Park</td>\n",
       "      <td>303</td>\n",
       "      <td>26981</td>\n",
       "      <td>0.011230</td>\n",
       "    </tr>\n",
       "    <tr>\n",
       "      <th>77</th>\n",
       "      <td>Albert Gate, Hyde Park</td>\n",
       "      <td>729</td>\n",
       "      <td>66547</td>\n",
       "      <td>0.010955</td>\n",
       "    </tr>\n",
       "    <tr>\n",
       "      <th>82</th>\n",
       "      <td>Triangle Car Park, Hyde Park</td>\n",
       "      <td>454</td>\n",
       "      <td>41675</td>\n",
       "      <td>0.010894</td>\n",
       "    </tr>\n",
       "  </tbody>\n",
       "</table>\n",
       "</div>"
      ],
      "text/plain": [
       "                           start_station_name  bad_trips  num_trips  \\\n",
       "6                  River Street , Clerkenwell        221       8279   \n",
       "9             Courland Grove, Wandsworth Road        105       5369   \n",
       "10                   Stanley Grove, Battersea         92       4882   \n",
       "12                        Southern Grove, Bow        112       6152   \n",
       "18              Richmond Way, Shepherd's Bush        126       8149   \n",
       "3                       Ormonde Gate, Chelsea        315       8932   \n",
       "41           Emperor's Gate, South Kensington        136      10554   \n",
       "53              Chepstow Villas, Notting Hill        135      11038   \n",
       "57                     Salmon Lane, Limehouse        113       9345   \n",
       "63                Greyhound Road, Hammersmith        118       9998   \n",
       "35            Hertford Road, De Beauvoir Town        195      14188   \n",
       "39              Bramham Gardens, Earl's Court        212      16178   \n",
       "62                 Lancaster Gate , Bayswater        172      14554   \n",
       "75               Ilchester Gardens, Bayswater        159      14137   \n",
       "80  Westfield Library Corner, Shepherd's Bush        126      11517   \n",
       "25           Queen's Gate, Kensington Gardens        396      27457   \n",
       "74              Speakers' Corner 2, Hyde Park        468      41107   \n",
       "76                 Cumberland Gate, Hyde Park        303      26981   \n",
       "77                     Albert Gate, Hyde Park        729      66547   \n",
       "82               Triangle Car Park, Hyde Park        454      41675   \n",
       "\n",
       "    fraction_bad  \n",
       "6       0.026694  \n",
       "9       0.019557  \n",
       "10      0.018845  \n",
       "12      0.018205  \n",
       "18      0.015462  \n",
       "3       0.035266  \n",
       "41      0.012886  \n",
       "53      0.012230  \n",
       "57      0.012092  \n",
       "63      0.011802  \n",
       "35      0.013744  \n",
       "39      0.013104  \n",
       "62      0.011818  \n",
       "75      0.011247  \n",
       "80      0.010940  \n",
       "25      0.014423  \n",
       "74      0.011385  \n",
       "76      0.011230  \n",
       "77      0.010955  \n",
       "82      0.010894  "
      ]
     },
     "execution_count": 8,
     "metadata": {},
     "output_type": "execute_result"
    }
   ],
   "source": [
    "stations_to_examine = pd.concat(stations_to_examine)\n",
    "stations_to_examine"
   ]
  },
  {
   "cell_type": "markdown",
   "metadata": {},
   "source": [
    "### Write the stations to a new table in BigQuery"
   ]
  },
  {
   "cell_type": "code",
   "execution_count": null,
   "metadata": {},
   "outputs": [],
   "source": [
    "!pip install pyarrow"
   ]
  },
  {
   "cell_type": "code",
   "execution_count": 11,
   "metadata": {},
   "outputs": [
    {
     "name": "stdout",
     "output_type": "stream",
     "text": [
      "Loaded 20 rows into swast-scratch.ch05eu.bad_bikes\n"
     ]
    }
   ],
   "source": [
    "from google.cloud import bigquery\n",
    "bq = bigquery.Client(project=PROJECT)\n",
    "\n",
    "table_id = '{}.ch05eu.bad_bikes'.format(PROJECT)\n",
    "job = bq.load_table_from_dataframe(stations_to_examine, table_id)\n",
    "job.result() # blocks and waits\n",
    "print(\"Loaded {} rows into {}\".format(job.output_rows, table_id))"
   ]
  },
  {
   "cell_type": "markdown",
   "metadata": {},
   "source": [
    "### Plot map for crew"
   ]
  },
  {
   "cell_type": "markdown",
   "metadata": {},
   "source": [
    "Add latitude and longitude through a join"
   ]
  },
  {
   "cell_type": "code",
   "execution_count": 12,
   "metadata": {},
   "outputs": [],
   "source": [
    "%%bigquery stations_to_examine --project $PROJECT\n",
    "SELECT \n",
    "  start_station_name AS station_name\n",
    "  , num_trips\n",
    "  , fraction_bad\n",
    "  , latitude\n",
    "  , longitude\n",
    "FROM ch05eu.bad_bikes AS bad\n",
    "JOIN `bigquery-public-data`.london_bicycles.cycle_stations AS s\n",
    "ON bad.start_station_name = s.name"
   ]
  },
  {
   "cell_type": "code",
   "execution_count": 13,
   "metadata": {},
   "outputs": [
    {
     "name": "stdout",
     "output_type": "stream",
     "text": [
      "Collecting folium\n",
      "\u001b[?25l  Downloading https://files.pythonhosted.org/packages/47/28/b3199bf87100e389c1dff88a44a38936d27e5e99eece870b5308186217c8/folium-0.8.2-py2.py3-none-any.whl (87kB)\n",
      "\u001b[K    100% |████████████████████████████████| 92kB 1.4MB/s ta 0:00:01\n",
      "\u001b[?25hCollecting branca>=0.3.0 (from folium)\n",
      "  Downloading https://files.pythonhosted.org/packages/63/36/1c93318e9653f4e414a2e0c3b98fc898b4970e939afeedeee6075dd3b703/branca-0.3.1-py3-none-any.whl\n",
      "Requirement already satisfied: jinja2 in /Users/swast/.pyenv/versions/3.7.2/envs/bigquery-oreilly-book/lib/python3.7/site-packages (from folium) (2.10)\n",
      "Requirement already satisfied: requests in /Users/swast/.pyenv/versions/3.7.2/envs/bigquery-oreilly-book/lib/python3.7/site-packages (from folium) (2.21.0)\n",
      "Requirement already satisfied: numpy in /Users/swast/.pyenv/versions/3.7.2/envs/bigquery-oreilly-book/lib/python3.7/site-packages (from folium) (1.16.2)\n",
      "Requirement already satisfied: six in /Users/swast/.pyenv/versions/3.7.2/envs/bigquery-oreilly-book/lib/python3.7/site-packages (from folium) (1.12.0)\n",
      "Requirement already satisfied: MarkupSafe>=0.23 in /Users/swast/.pyenv/versions/3.7.2/envs/bigquery-oreilly-book/lib/python3.7/site-packages (from jinja2->folium) (1.1.1)\n",
      "Requirement already satisfied: chardet<3.1.0,>=3.0.2 in /Users/swast/.pyenv/versions/3.7.2/envs/bigquery-oreilly-book/lib/python3.7/site-packages (from requests->folium) (3.0.4)\n",
      "Requirement already satisfied: urllib3<1.25,>=1.21.1 in /Users/swast/.pyenv/versions/3.7.2/envs/bigquery-oreilly-book/lib/python3.7/site-packages (from requests->folium) (1.24.1)\n",
      "Requirement already satisfied: idna<2.9,>=2.5 in /Users/swast/.pyenv/versions/3.7.2/envs/bigquery-oreilly-book/lib/python3.7/site-packages (from requests->folium) (2.8)\n",
      "Requirement already satisfied: certifi>=2017.4.17 in /Users/swast/.pyenv/versions/3.7.2/envs/bigquery-oreilly-book/lib/python3.7/site-packages (from requests->folium) (2018.11.29)\n",
      "Installing collected packages: branca, folium\n",
      "Successfully installed branca-0.3.1 folium-0.8.2\n",
      "\u001b[33mYou are using pip version 18.1, however version 19.0.3 is available.\n",
      "You should consider upgrading via the 'pip install --upgrade pip' command.\u001b[0m\n"
     ]
    }
   ],
   "source": [
    "!pip install --user folium"
   ]
  },
  {
   "cell_type": "code",
   "execution_count": 14,
   "metadata": {},
   "outputs": [
    {
     "data": {
      "text/html": [
       "<div style=\"width:100%;\"><div style=\"position:relative;width:100%;height:0;padding-bottom:60%;\"><iframe src=\"data:text/html;charset=utf-8;base64,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\" style=\"position:absolute;width:100%;height:100%;left:0;top:0;border:none !important;\" allowfullscreen webkitallowfullscreen mozallowfullscreen></iframe></div></div>"
      ],
      "text/plain": [
       "<folium.folium.Map at 0x11c8a8898>"
      ]
     },
     "execution_count": 14,
     "metadata": {},
     "output_type": "execute_result"
    }
   ],
   "source": [
    "import folium\n",
    "map_pts = folium.Map(location=[51.5, -0.15], zoom_start=12)\n",
    "for idx, row in stations_to_examine.iterrows():\n",
    "  folium.Marker( location=[row['latitude'], row['longitude']], popup=row['station_name'] ).add_to(map_pts)\n",
    "map_pts"
   ]
  },
  {
   "cell_type": "markdown",
   "metadata": {},
   "source": [
    "Copyright 2019 Google Inc. Licensed under the Apache License, Version 2.0 (the \"License\"); you may not use this file except in compliance with the License. You may obtain a copy of the License at http://www.apache.org/licenses/LICENSE-2.0 Unless required by applicable law or agreed to in writing, software distributed under the License is distributed on an \"AS IS\" BASIS, WITHOUT WARRANTIES OR CONDITIONS OF ANY KIND, either express or implied. See the License for the specific language governing permissions and limitations under the License"
   ]
  }
 ],
 "metadata": {
  "kernelspec": {
   "display_name": "Python 3",
   "language": "python",
   "name": "python3"
  },
  "language_info": {
   "codemirror_mode": {
    "name": "ipython",
    "version": 3
   },
   "file_extension": ".py",
   "mimetype": "text/x-python",
   "name": "python",
   "nbconvert_exporter": "python",
   "pygments_lexer": "ipython3",
   "version": "3.5.3"
  }
 },
 "nbformat": 4,
 "nbformat_minor": 2
}
